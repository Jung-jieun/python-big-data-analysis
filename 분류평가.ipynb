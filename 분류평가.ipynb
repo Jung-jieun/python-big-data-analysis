{
 "cells": [
  {
   "cell_type": "markdown",
   "id": "2a3c6519",
   "metadata": {},
   "source": [
    "### 분류종류\n",
    "\n",
    "- 이진 분류(Binary Classification)\n",
    "    - 두 그룹으로 분류\n",
    "    - 참(True) 또는 거짓(False), A 그룹 또는 B 그룹\n",
    "    - 분류 결과가 맞다면 1(True, A 그룹에 포함)을 반환하며, 아니라면 0(False)을 반환\n",
    "- 다중 분류(Multiclass Classification)\n",
    "    - 분류해야하는 그룹이 3종류 이상"
   ]
  },
  {
   "cell_type": "markdown",
   "id": "d93f3655",
   "metadata": {},
   "source": [
    "분류 성능지표 개념\n",
    "- https://hwi-doc.tistory.com/entry/%EB%AA%A8%EB%8D%B8-%ED%8F%89%EA%B0%80%ED%95%98%EA%B8%B0-%EC%A0%95%ED%99%95%EB%8F%84%EB%A7%8C-%EB%86%92%EC%9C%BC%EB%A9%B4-%EC%A2%8B%EC%9D%80-%EB%AA%A8%EB%8D%B8"
   ]
  },
  {
   "cell_type": "markdown",
   "id": "7c346cc6",
   "metadata": {},
   "source": [
    "### 피마 인디언 당뇨병 예측\n",
    "\n",
    "- https://www.kaggle.com/datasets/uciml/pima-indians-diabetes-database?select=diabetes.csv\n",
    "\n",
    "- Pregnancies: 임신 횟수\n",
    "- Glucose: 포도당 부하 검사 수치\n",
    "- BloodPressure: 혈압(mm Hg)\n",
    "- SkinThickness: 팔 삼두근 뒤쪽의 피하지방 측정값(mm)\n",
    "- Insulin: 혈청 인슐린(mu U/ml)\n",
    "- BMI: 체질량지수(체중(kg)/키(m))^2\n",
    "- DiabetesPedigreeFunction: 당뇨 내력 가중치 값\n",
    "- Age: 나이\n",
    "- Outcome: 클래스 결정 값(0 또는 1)"
   ]
  },
  {
   "cell_type": "code",
   "execution_count": 1,
   "id": "fa8b37fa",
   "metadata": {},
   "outputs": [],
   "source": [
    "import numpy as np\n",
    "import pandas as pd\n",
    "import matplotlib.pyplot as plt \n",
    "\n",
    "from sklearn.model_selection import train_test_split\n",
    "from sklearn.metrics import accuracy_score, precision_score, recall_score, roc_auc_score\n",
    "from sklearn.metrics import f1_score, confusion_matrix, precision_recall_curve, roc_curve\n",
    "from sklearn.metrics import plot_precision_recall_curve\n",
    "from sklearn.metrics import plot_roc_curve\n",
    "from sklearn.metrics import classification_report\n",
    "\n",
    "from sklearn.tree import DecisionTreeClassifier\n",
    "from sklearn.linear_model import LogisticRegression\n",
    "\n",
    "import warnings\n",
    "warnings.filterwarnings('ignore')"
   ]
  },
  {
   "cell_type": "code",
   "execution_count": 2,
   "id": "b871553a",
   "metadata": {},
   "outputs": [
    {
     "name": "stdout",
     "output_type": "stream",
     "text": [
      "<class 'pandas.core.frame.DataFrame'>\n",
      "RangeIndex: 768 entries, 0 to 767\n",
      "Data columns (total 9 columns):\n",
      " #   Column                    Non-Null Count  Dtype  \n",
      "---  ------                    --------------  -----  \n",
      " 0   Pregnancies               768 non-null    int64  \n",
      " 1   Glucose                   768 non-null    int64  \n",
      " 2   BloodPressure             768 non-null    int64  \n",
      " 3   SkinThickness             768 non-null    int64  \n",
      " 4   Insulin                   768 non-null    int64  \n",
      " 5   BMI                       768 non-null    float64\n",
      " 6   DiabetesPedigreeFunction  768 non-null    float64\n",
      " 7   Age                       768 non-null    int64  \n",
      " 8   Outcome                   768 non-null    int64  \n",
      "dtypes: float64(2), int64(7)\n",
      "memory usage: 54.1 KB\n"
     ]
    }
   ],
   "source": [
    "diabetes = pd.read_csv(r\"C:\\Users\\82109\\OneDrive\\바탕 화면\\python study\\특강\\diabetes.csv\")\n",
    "diabetes.info()"
   ]
  },
  {
   "cell_type": "code",
   "execution_count": 3,
   "id": "f635c66c",
   "metadata": {},
   "outputs": [
    {
     "data": {
      "text/plain": [
       "0    500\n",
       "1    268\n",
       "Name: Outcome, dtype: int64"
      ]
     },
     "execution_count": 3,
     "metadata": {},
     "output_type": "execute_result"
    }
   ],
   "source": [
    "# 데이터 편향\n",
    "diabetes['Outcome'].value_counts()"
   ]
  },
  {
   "cell_type": "code",
   "execution_count": 4,
   "id": "9a23e140",
   "metadata": {},
   "outputs": [],
   "source": [
    "feature = diabetes.iloc[:, :-1]\n",
    "target = diabetes['Outcome']"
   ]
  },
  {
   "cell_type": "code",
   "execution_count": 5,
   "id": "fa0210c1",
   "metadata": {},
   "outputs": [
    {
     "name": "stdout",
     "output_type": "stream",
     "text": [
      "<class 'pandas.core.frame.DataFrame'>\n",
      "RangeIndex: 768 entries, 0 to 767\n",
      "Data columns (total 8 columns):\n",
      " #   Column                    Non-Null Count  Dtype  \n",
      "---  ------                    --------------  -----  \n",
      " 0   Pregnancies               768 non-null    int64  \n",
      " 1   Glucose                   768 non-null    int64  \n",
      " 2   BloodPressure             768 non-null    int64  \n",
      " 3   SkinThickness             768 non-null    int64  \n",
      " 4   Insulin                   768 non-null    int64  \n",
      " 5   BMI                       768 non-null    float64\n",
      " 6   DiabetesPedigreeFunction  768 non-null    float64\n",
      " 7   Age                       768 non-null    int64  \n",
      "dtypes: float64(2), int64(6)\n",
      "memory usage: 48.1 KB\n"
     ]
    }
   ],
   "source": [
    "feature.info()"
   ]
  },
  {
   "cell_type": "code",
   "execution_count": 6,
   "id": "f1929dc9",
   "metadata": {},
   "outputs": [
    {
     "data": {
      "text/plain": [
       "0      1\n",
       "1      0\n",
       "2      1\n",
       "3      0\n",
       "4      1\n",
       "      ..\n",
       "763    0\n",
       "764    0\n",
       "765    0\n",
       "766    1\n",
       "767    0\n",
       "Name: Outcome, Length: 768, dtype: int64"
      ]
     },
     "execution_count": 6,
     "metadata": {},
     "output_type": "execute_result"
    }
   ],
   "source": [
    "target"
   ]
  },
  {
   "cell_type": "code",
   "execution_count": 7,
   "id": "0d1db321",
   "metadata": {},
   "outputs": [
    {
     "data": {
      "text/plain": [
       "0.6875"
      ]
     },
     "execution_count": 7,
     "metadata": {},
     "output_type": "execute_result"
    }
   ],
   "source": [
    "X_train, X_test, y_train, y_test = train_test_split(feature,target, random_state=156)\n",
    "\n",
    "dt = DecisionTreeClassifier(random_state=156)\n",
    "dt.fit(X_train, y_train)\n",
    "pred = dt.predict(X_test)\n",
    "\n",
    "accuracy_score(y_test, pred)"
   ]
  },
  {
   "cell_type": "code",
   "execution_count": 8,
   "id": "83c02536",
   "metadata": {},
   "outputs": [
    {
     "data": {
      "text/plain": [
       "0.6875"
      ]
     },
     "execution_count": 8,
     "metadata": {},
     "output_type": "execute_result"
    }
   ],
   "source": [
    "X_train, X_test, y_train, y_test = train_test_split(feature,target, shuffle = True, stratify = target, random_state=156)\n",
    "\n",
    "dt = DecisionTreeClassifier(random_state=156)\n",
    "dt.fit(X_train, y_train)\n",
    "pred = dt.predict(X_test)\n",
    "\n",
    "accuracy_score(y_test, pred)"
   ]
  },
  {
   "cell_type": "code",
   "execution_count": 9,
   "id": "ce0fa694",
   "metadata": {},
   "outputs": [
    {
     "data": {
      "text/html": [
       "<div>\n",
       "<style scoped>\n",
       "    .dataframe tbody tr th:only-of-type {\n",
       "        vertical-align: middle;\n",
       "    }\n",
       "\n",
       "    .dataframe tbody tr th {\n",
       "        vertical-align: top;\n",
       "    }\n",
       "\n",
       "    .dataframe thead th {\n",
       "        text-align: right;\n",
       "    }\n",
       "</style>\n",
       "<table border=\"1\" class=\"dataframe\">\n",
       "  <thead>\n",
       "    <tr style=\"text-align: right;\">\n",
       "      <th></th>\n",
       "      <th>actual</th>\n",
       "      <th>pred</th>\n",
       "    </tr>\n",
       "  </thead>\n",
       "  <tbody>\n",
       "    <tr>\n",
       "      <th>84</th>\n",
       "      <td>1</td>\n",
       "      <td>1</td>\n",
       "    </tr>\n",
       "    <tr>\n",
       "      <th>604</th>\n",
       "      <td>1</td>\n",
       "      <td>1</td>\n",
       "    </tr>\n",
       "    <tr>\n",
       "      <th>739</th>\n",
       "      <td>1</td>\n",
       "      <td>1</td>\n",
       "    </tr>\n",
       "    <tr>\n",
       "      <th>762</th>\n",
       "      <td>0</td>\n",
       "      <td>0</td>\n",
       "    </tr>\n",
       "    <tr>\n",
       "      <th>411</th>\n",
       "      <td>0</td>\n",
       "      <td>1</td>\n",
       "    </tr>\n",
       "    <tr>\n",
       "      <th>...</th>\n",
       "      <td>...</td>\n",
       "      <td>...</td>\n",
       "    </tr>\n",
       "    <tr>\n",
       "      <th>111</th>\n",
       "      <td>1</td>\n",
       "      <td>0</td>\n",
       "    </tr>\n",
       "    <tr>\n",
       "      <th>527</th>\n",
       "      <td>0</td>\n",
       "      <td>0</td>\n",
       "    </tr>\n",
       "    <tr>\n",
       "      <th>682</th>\n",
       "      <td>0</td>\n",
       "      <td>0</td>\n",
       "    </tr>\n",
       "    <tr>\n",
       "      <th>613</th>\n",
       "      <td>0</td>\n",
       "      <td>0</td>\n",
       "    </tr>\n",
       "    <tr>\n",
       "      <th>557</th>\n",
       "      <td>0</td>\n",
       "      <td>1</td>\n",
       "    </tr>\n",
       "  </tbody>\n",
       "</table>\n",
       "<p>192 rows × 2 columns</p>\n",
       "</div>"
      ],
      "text/plain": [
       "     actual  pred\n",
       "84        1     1\n",
       "604       1     1\n",
       "739       1     1\n",
       "762       0     0\n",
       "411       0     1\n",
       "..      ...   ...\n",
       "111       1     0\n",
       "527       0     0\n",
       "682       0     0\n",
       "613       0     0\n",
       "557       0     1\n",
       "\n",
       "[192 rows x 2 columns]"
      ]
     },
     "execution_count": 9,
     "metadata": {},
     "output_type": "execute_result"
    }
   ],
   "source": [
    "# confusion matrix 만들기\n",
    "mycon = pd.DataFrame()\n",
    "mycon['actual'] = y_test\n",
    "mycon['pred'] = pred\n",
    "mycon"
   ]
  },
  {
   "cell_type": "markdown",
   "id": "32ff1301",
   "metadata": {},
   "source": [
    "(0,0) : TN, (0,1) : FP\n",
    "\n",
    "(1,0) : FN, (1,1) : TP"
   ]
  },
  {
   "cell_type": "code",
   "execution_count": 10,
   "id": "fe67497d",
   "metadata": {},
   "outputs": [
    {
     "data": {
      "text/html": [
       "<div>\n",
       "<style scoped>\n",
       "    .dataframe tbody tr th:only-of-type {\n",
       "        vertical-align: middle;\n",
       "    }\n",
       "\n",
       "    .dataframe tbody tr th {\n",
       "        vertical-align: top;\n",
       "    }\n",
       "\n",
       "    .dataframe thead th {\n",
       "        text-align: right;\n",
       "    }\n",
       "</style>\n",
       "<table border=\"1\" class=\"dataframe\">\n",
       "  <thead>\n",
       "    <tr style=\"text-align: right;\">\n",
       "      <th></th>\n",
       "      <th>actual</th>\n",
       "      <th>pred</th>\n",
       "    </tr>\n",
       "    <tr>\n",
       "      <th>con</th>\n",
       "      <th></th>\n",
       "      <th></th>\n",
       "    </tr>\n",
       "  </thead>\n",
       "  <tbody>\n",
       "    <tr>\n",
       "      <th>FN</th>\n",
       "      <td>35</td>\n",
       "      <td>35</td>\n",
       "    </tr>\n",
       "    <tr>\n",
       "      <th>FP</th>\n",
       "      <td>25</td>\n",
       "      <td>25</td>\n",
       "    </tr>\n",
       "    <tr>\n",
       "      <th>TN</th>\n",
       "      <td>100</td>\n",
       "      <td>100</td>\n",
       "    </tr>\n",
       "    <tr>\n",
       "      <th>TP</th>\n",
       "      <td>32</td>\n",
       "      <td>32</td>\n",
       "    </tr>\n",
       "  </tbody>\n",
       "</table>\n",
       "</div>"
      ],
      "text/plain": [
       "     actual  pred\n",
       "con              \n",
       "FN       35    35\n",
       "FP       25    25\n",
       "TN      100   100\n",
       "TP       32    32"
      ]
     },
     "execution_count": 10,
     "metadata": {},
     "output_type": "execute_result"
    }
   ],
   "source": [
    "mycon['con'] = np.where(mycon['actual']==1, np.where(mycon['pred']==1, 'TP', 'FN'), np.where(mycon['pred']==0, 'TN', 'FP'))\n",
    "mycon.groupby(['con']).count()"
   ]
  },
  {
   "cell_type": "code",
   "execution_count": 11,
   "id": "02cb3b83",
   "metadata": {},
   "outputs": [
    {
     "data": {
      "text/plain": [
       "array([[100,  25],\n",
       "       [ 35,  32]], dtype=int64)"
      ]
     },
     "execution_count": 11,
     "metadata": {},
     "output_type": "execute_result"
    }
   ],
   "source": [
    "# confusion matrix\n",
    "confusion_matrix(y_test, pred)"
   ]
  },
  {
   "cell_type": "code",
   "execution_count": 12,
   "id": "4d1c618b",
   "metadata": {},
   "outputs": [],
   "source": [
    "def get_clf_eval(y_test, pred) : \n",
    "    confusion = confusion_matrix(y_test, pred)\n",
    "    accuracy = accuracy_score(y_test, pred)\n",
    "    precision = precision_score(y_test, pred) # 정밀도\n",
    "    recall = recall_score(y_test, pred) # 재현율\n",
    "    f1 = f1_score(y_test, pred)\n",
    "    roc_auc = roc_auc_score(y_test, pred)\n",
    "    \n",
    "    print('오차행렬')\n",
    "    print(confusion)\n",
    "    print(f'정확도 : {accuracy : .4f}, 정밀도 : {precision : .4f}, 재현율 : {recall : .4f}, F1 : {f1 : 4f}, AUC : {roc_auc : .4f}')"
   ]
  },
  {
   "cell_type": "code",
   "execution_count": 13,
   "id": "295029a4",
   "metadata": {},
   "outputs": [
    {
     "name": "stdout",
     "output_type": "stream",
     "text": [
      "오차행렬\n",
      "[[100  25]\n",
      " [ 35  32]]\n",
      "정확도 :  0.6875, 정밀도 :  0.5614, 재현율 :  0.4776, F1 :  0.516129, AUC :  0.6388\n"
     ]
    }
   ],
   "source": [
    "get_clf_eval(y_test, pred)"
   ]
  },
  {
   "cell_type": "code",
   "execution_count": 14,
   "id": "1effe3d3",
   "metadata": {},
   "outputs": [
    {
     "name": "stdout",
     "output_type": "stream",
     "text": [
      "              precision    recall  f1-score   support\n",
      "\n",
      "           0       0.74      0.80      0.77       125\n",
      "           1       0.56      0.48      0.52        67\n",
      "\n",
      "    accuracy                           0.69       192\n",
      "   macro avg       0.65      0.64      0.64       192\n",
      "weighted avg       0.68      0.69      0.68       192\n",
      "\n"
     ]
    }
   ],
   "source": [
    "print(classification_report(y_test, pred))"
   ]
  },
  {
   "cell_type": "code",
   "execution_count": 15,
   "id": "db7ef116",
   "metadata": {},
   "outputs": [
    {
     "data": {
      "image/png": "[encoded data removed]",
      "text/plain": [
       "<Figure size 432x288 with 1 Axes>"
      ]
     },
     "metadata": {
      "needs_background": "light"
     },
     "output_type": "display_data"
    }
   ],
   "source": [
    "from sklearn.metrics import plot_roc_curve\n",
    "\n",
    "# roc 그래프\n",
    "plot_roc_curve(dt, X_test, y_test)\n",
    "plt.show()"
   ]
  },
  {
   "cell_type": "code",
   "execution_count": 16,
   "id": "aed0344b",
   "metadata": {},
   "outputs": [
    {
     "data": {
      "image/png": "[encoded data removed]",
      "text/plain": [
       "<Figure size 432x288 with 1 Axes>"
      ]
     },
     "metadata": {
      "needs_background": "light"
     },
     "output_type": "display_data"
    }
   ],
   "source": [
    "# precision_recall_curve\n",
    "plot_precision_recall_curve(dt, X_test, y_test)\n",
    "plt.show()"
   ]
  },
  {
   "cell_type": "code",
   "execution_count": 22,
   "id": "76184121",
   "metadata": {},
   "outputs": [
    {
     "data": {
      "text/plain": [
       "array([1, 1, 1, 0, 1, 0, 0, 0, 0, 0, 0, 0, 1, 0, 0, 0, 0, 1, 0, 1, 1, 0,\n",
       "       0, 1, 0, 0, 0, 1, 0, 1, 0, 0, 1, 0, 0, 0, 1, 0, 0, 1, 0, 0, 0, 1,\n",
       "       0, 1, 0, 0, 0, 0, 0, 1, 0, 1, 0, 1, 1, 0, 0, 0, 1, 0, 0, 1, 0, 0,\n",
       "       0, 0, 1, 1, 1, 0, 0, 1, 0, 0, 0, 0, 0, 0, 1, 0, 0, 1, 0, 0, 0, 1,\n",
       "       1, 0, 0, 0, 1, 0, 0, 1, 0, 0, 0, 0, 0, 1, 0, 0, 1, 1, 1, 0, 0, 1,\n",
       "       1, 1, 0, 0, 1, 0, 0, 0, 0, 0, 0, 0, 0, 1, 0, 0, 0, 0, 0, 0, 0, 1,\n",
       "       0, 1, 1, 0, 0, 0, 0, 0, 0, 0, 0, 0, 0, 0, 0, 0, 0, 1, 1, 0, 0, 0,\n",
       "       1, 0, 0, 0, 1, 0, 1, 0, 0, 1, 0, 1, 0, 0, 0, 1, 1, 1, 0, 0, 0, 0,\n",
       "       0, 0, 0, 0, 0, 0, 1, 0, 0, 1, 0, 0, 0, 0, 0, 1], dtype=int64)"
      ]
     },
     "execution_count": 22,
     "metadata": {},
     "output_type": "execute_result"
    }
   ],
   "source": [
    "dt.predict(X_test)"
   ]
  },
  {
   "cell_type": "code",
   "execution_count": 26,
   "id": "4c050801",
   "metadata": {},
   "outputs": [
    {
     "data": {
      "text/plain": [
       "array([1., 1., 1., 0., 1., 0., 0., 0., 0., 0., 0., 0., 1., 0., 0., 0., 0.,\n",
       "       1., 0., 1., 1., 0., 0., 1., 0., 0., 0., 1., 0., 1., 0., 0., 1., 0.,\n",
       "       0., 0., 1., 0., 0., 1., 0., 0., 0., 1., 0., 1., 0., 0., 0., 0., 0.,\n",
       "       1., 0., 1., 0., 1., 1., 0., 0., 0., 1., 0., 0., 1., 0., 0., 0., 0.,\n",
       "       1., 1., 1., 0., 0., 1., 0., 0., 0., 0., 0., 0., 1., 0., 0., 1., 0.,\n",
       "       0., 0., 1., 1., 0., 0., 0., 1., 0., 0., 1., 0., 0., 0., 0., 0., 1.,\n",
       "       0., 0., 1., 1., 1., 0., 0., 1., 1., 1., 0., 0., 1., 0., 0., 0., 0.,\n",
       "       0., 0., 0., 0., 1., 0., 0., 0., 0., 0., 0., 0., 1., 0., 1., 1., 0.,\n",
       "       0., 0., 0., 0., 0., 0., 0., 0., 0., 0., 0., 0., 0., 1., 1., 0., 0.,\n",
       "       0., 1., 0., 0., 0., 1., 0., 1., 0., 0., 1., 0., 1., 0., 0., 0., 1.,\n",
       "       1., 1., 0., 0., 0., 0., 0., 0., 0., 0., 0., 0., 1., 0., 0., 1., 0.,\n",
       "       0., 0., 0., 0., 1.])"
      ]
     },
     "execution_count": 26,
     "metadata": {},
     "output_type": "execute_result"
    }
   ],
   "source": [
    "# predict_proba : 레이블 값이 될 확률 추출\n",
    "pred_probal = dt.predict_proba(X_test) \n",
    "pred_probal[:, 1]"
   ]
  },
  {
   "cell_type": "code",
   "execution_count": 27,
   "id": "41b4a61b",
   "metadata": {},
   "outputs": [
    {
     "data": {
      "image/png": "[encoded data removed]",
      "text/plain": [
       "<Figure size 432x288 with 1 Axes>"
      ]
     },
     "metadata": {
      "needs_background": "light"
     },
     "output_type": "display_data"
    }
   ],
   "source": [
    "precision, recall, thresholds = precision_recall_curve(y_test, pred_probal[:, 1])\n",
    "plt.plot(thresholds, precision[:thresholds.shape[0]], 'r-', label = 'precision')\n",
    "plt.plot(thresholds, recall[:thresholds.shape[0]], 'b--', label = 'recall')\n",
    "plt.legend()\n",
    "plt.show()"
   ]
  },
  {
   "cell_type": "code",
   "execution_count": 28,
   "id": "02bc82ee",
   "metadata": {},
   "outputs": [
    {
     "data": {
      "text/plain": [
       "0.7447916666666666"
      ]
     },
     "execution_count": 28,
     "metadata": {},
     "output_type": "execute_result"
    }
   ],
   "source": [
    "X_train, X_test, y_train, y_test = train_test_split(feature,target, random_state=156)\n",
    "\n",
    "# 로지스틱 회귀로 학습, 예측, 평가 \n",
    "lr_clf = LogisticRegression()\n",
    "lr_clf.fit(X_train, y_train)\n",
    "pred = lr_clf.predict(X_test)\n",
    "\n",
    "accuracy_score(y_test, pred)"
   ]
  },
  {
   "cell_type": "code",
   "execution_count": 29,
   "id": "c2b5bdd9",
   "metadata": {},
   "outputs": [
    {
     "data": {
      "text/plain": [
       "0.78125"
      ]
     },
     "execution_count": 29,
     "metadata": {},
     "output_type": "execute_result"
    }
   ],
   "source": [
    "X_train, X_test, y_train, y_test = train_test_split(feature, target ,shuffle=True, stratify = target, random_state=156)\n",
    "\n",
    "# 로지스틱 회귀로 학습, 예측, 평가 \n",
    "lr_clf = LogisticRegression()\n",
    "lr_clf.fit(X_train, y_train)\n",
    "pred = lr_clf.predict(X_test)\n",
    "\n",
    "accuracy_score(y_test, pred)"
   ]
  },
  {
   "cell_type": "code",
   "execution_count": 30,
   "id": "e82b51cc",
   "metadata": {},
   "outputs": [
    {
     "name": "stdout",
     "output_type": "stream",
     "text": [
      "              precision    recall  f1-score   support\n",
      "\n",
      "           0       0.79      0.90      0.84       125\n",
      "           1       0.76      0.55      0.64        67\n",
      "\n",
      "    accuracy                           0.78       192\n",
      "   macro avg       0.77      0.73      0.74       192\n",
      "weighted avg       0.78      0.78      0.77       192\n",
      "\n"
     ]
    }
   ],
   "source": [
    "print(classification_report(y_test, pred))"
   ]
  },
  {
   "cell_type": "code",
   "execution_count": 31,
   "id": "20ab7f19",
   "metadata": {},
   "outputs": [
    {
     "data": {
      "image/png": "[encoded data removed]",
      "text/plain": [
       "<Figure size 432x288 with 1 Axes>"
      ]
     },
     "metadata": {
      "needs_background": "light"
     },
     "output_type": "display_data"
    }
   ],
   "source": [
    "# roc 그래프\n",
    "plot_roc_curve(lr_clf, X_test, y_test)\n",
    "plt.show()"
   ]
  },
  {
   "cell_type": "code",
   "execution_count": 32,
   "id": "3d88703a",
   "metadata": {},
   "outputs": [
    {
     "data": {
      "image/png": "[encoded data removed]",
      "text/plain": [
       "<Figure size 432x288 with 1 Axes>"
      ]
     },
     "metadata": {
      "needs_background": "light"
     },
     "output_type": "display_data"
    }
   ],
   "source": [
    "# precision_recall_curve\n",
    "plot_precision_recall_curve(lr_clf, X_test, y_test)\n",
    "plt.show()"
   ]
  },
  {
   "cell_type": "code",
   "execution_count": 33,
   "id": "1ac27cbf",
   "metadata": {},
   "outputs": [
    {
     "data": {
      "text/plain": [
       "array([[0.43075317, 0.56924683],\n",
       "       [0.1514229 , 0.8485771 ],\n",
       "       [0.83066801, 0.16933199],\n",
       "       [0.89422599, 0.10577401],\n",
       "       [0.80993608, 0.19006392],\n",
       "       [0.86845156, 0.13154844],\n",
       "       [0.95114867, 0.04885133],\n",
       "       [0.8173569 , 0.1826431 ],\n",
       "       [0.59260181, 0.40739819],\n",
       "       [0.83807008, 0.16192992],\n",
       "       [0.98800494, 0.01199506],\n",
       "       [0.85851979, 0.14148021],\n",
       "       [0.46346542, 0.53653458],\n",
       "       [0.650544  , 0.349456  ],\n",
       "       [0.86318849, 0.13681151],\n",
       "       [0.15219306, 0.84780694],\n",
       "       [0.4732038 , 0.5267962 ],\n",
       "       [0.38147557, 0.61852443],\n",
       "       [0.82973796, 0.17026204],\n",
       "       [0.37218507, 0.62781493],\n",
       "       [0.85341156, 0.14658844],\n",
       "       [0.61713519, 0.38286481],\n",
       "       [0.80102849, 0.19897151],\n",
       "       [0.05949188, 0.94050812],\n",
       "       [0.8170732 , 0.1829268 ],\n",
       "       [0.7974215 , 0.2025785 ],\n",
       "       [0.84505788, 0.15494212],\n",
       "       [0.30048765, 0.69951235],\n",
       "       [0.80684551, 0.19315449],\n",
       "       [0.70798717, 0.29201283],\n",
       "       [0.52357953, 0.47642047],\n",
       "       [0.30232232, 0.69767768],\n",
       "       [0.78103765, 0.21896235],\n",
       "       [0.93421727, 0.06578273],\n",
       "       [0.98078281, 0.01921719],\n",
       "       [0.73408072, 0.26591928],\n",
       "       [0.51670528, 0.48329472],\n",
       "       [0.97339016, 0.02660984],\n",
       "       [0.75872234, 0.24127766],\n",
       "       [0.16778634, 0.83221366],\n",
       "       [0.85411192, 0.14588808],\n",
       "       [0.83836747, 0.16163253],\n",
       "       [0.78859111, 0.21140889],\n",
       "       [0.87428925, 0.12571075],\n",
       "       [0.6523423 , 0.3476577 ],\n",
       "       [0.17183537, 0.82816463],\n",
       "       [0.74729394, 0.25270606],\n",
       "       [0.79871902, 0.20128098],\n",
       "       [0.92896822, 0.07103178],\n",
       "       [0.87139283, 0.12860717],\n",
       "       [0.60888904, 0.39111096],\n",
       "       [0.41757327, 0.58242673],\n",
       "       [0.90994136, 0.09005864],\n",
       "       [0.27483141, 0.72516859],\n",
       "       [0.99143487, 0.00856513],\n",
       "       [0.40155807, 0.59844193],\n",
       "       [0.94737678, 0.05262322],\n",
       "       [0.81836117, 0.18163883],\n",
       "       [0.90635773, 0.09364227],\n",
       "       [0.95786574, 0.04213426],\n",
       "       [0.88295101, 0.11704899],\n",
       "       [0.93791199, 0.06208801],\n",
       "       [0.96464071, 0.03535929],\n",
       "       [0.14896844, 0.85103156],\n",
       "       [0.35596577, 0.64403423],\n",
       "       [0.90209991, 0.09790009],\n",
       "       [0.95313341, 0.04686659],\n",
       "       [0.8618977 , 0.1381023 ],\n",
       "       [0.47342733, 0.52657267],\n",
       "       [0.18179767, 0.81820233],\n",
       "       [0.66645525, 0.33354475],\n",
       "       [0.93952249, 0.06047751],\n",
       "       [0.61635478, 0.38364522],\n",
       "       [0.88010151, 0.11989849],\n",
       "       [0.6529251 , 0.3470749 ],\n",
       "       [0.92807097, 0.07192903],\n",
       "       [0.88052175, 0.11947825],\n",
       "       [0.96485528, 0.03514472],\n",
       "       [0.95154756, 0.04845244],\n",
       "       [0.74304278, 0.25695722],\n",
       "       [0.17853971, 0.82146029],\n",
       "       [0.75412953, 0.24587047],\n",
       "       [0.63271381, 0.36728619],\n",
       "       [0.65773977, 0.34226023],\n",
       "       [0.95537403, 0.04462597],\n",
       "       [0.78863705, 0.21136295],\n",
       "       [0.80794043, 0.19205957],\n",
       "       [0.10145468, 0.89854532],\n",
       "       [0.30227588, 0.69772412],\n",
       "       [0.87262556, 0.12737444],\n",
       "       [0.92568756, 0.07431244],\n",
       "       [0.90784753, 0.09215247],\n",
       "       [0.52068501, 0.47931499],\n",
       "       [0.86392508, 0.13607492],\n",
       "       [0.72177742, 0.27822258],\n",
       "       [0.63532835, 0.36467165],\n",
       "       [0.89908871, 0.10091129],\n",
       "       [0.45777947, 0.54222053],\n",
       "       [0.29344361, 0.70655639],\n",
       "       [0.93679822, 0.06320178],\n",
       "       [0.90622683, 0.09377317],\n",
       "       [0.88036001, 0.11963999],\n",
       "       [0.95148324, 0.04851676],\n",
       "       [0.70582627, 0.29417373],\n",
       "       [0.23153252, 0.76846748],\n",
       "       [0.69641717, 0.30358283],\n",
       "       [0.51757701, 0.48242299],\n",
       "       [0.94197496, 0.05802504],\n",
       "       [0.90494638, 0.09505362],\n",
       "       [0.29104727, 0.70895273],\n",
       "       [0.42432135, 0.57567865],\n",
       "       [0.94880452, 0.05119548],\n",
       "       [0.73588254, 0.26411746],\n",
       "       [0.71669656, 0.28330344],\n",
       "       [0.28293055, 0.71706945],\n",
       "       [0.91241596, 0.08758404],\n",
       "       [0.64564921, 0.35435079],\n",
       "       [0.89664377, 0.10335623],\n",
       "       [0.94242332, 0.05757668],\n",
       "       [0.8396606 , 0.1603394 ],\n",
       "       [0.89300326, 0.10699674],\n",
       "       [0.41936939, 0.58063061],\n",
       "       [0.6691149 , 0.3308851 ],\n",
       "       [0.62038269, 0.37961731],\n",
       "       [0.8419065 , 0.1580935 ],\n",
       "       [0.90105497, 0.09894503],\n",
       "       [0.85561821, 0.14438179],\n",
       "       [0.60121507, 0.39878493],\n",
       "       [0.15347667, 0.84652333],\n",
       "       [0.94197167, 0.05802833],\n",
       "       [0.57565939, 0.42434061],\n",
       "       [0.00632608, 0.99367392],\n",
       "       [0.92129806, 0.07870194],\n",
       "       [0.6632713 , 0.3367287 ],\n",
       "       [0.27504096, 0.72495904],\n",
       "       [0.77573114, 0.22426886],\n",
       "       [0.88839242, 0.11160758],\n",
       "       [0.74002969, 0.25997031],\n",
       "       [0.68181864, 0.31818136],\n",
       "       [0.93291782, 0.06708218],\n",
       "       [0.09858865, 0.90141135],\n",
       "       [0.90947559, 0.09052441],\n",
       "       [0.54458078, 0.45541922],\n",
       "       [0.93738171, 0.06261829],\n",
       "       [0.94820194, 0.05179806],\n",
       "       [0.93116793, 0.06883207],\n",
       "       [0.77078446, 0.22921554],\n",
       "       [0.2963902 , 0.7036098 ],\n",
       "       [0.84488283, 0.15511717],\n",
       "       [0.18688065, 0.81311935],\n",
       "       [0.28379614, 0.71620386],\n",
       "       [0.65657148, 0.34342852],\n",
       "       [0.56906596, 0.43093404],\n",
       "       [0.82038585, 0.17961415],\n",
       "       [0.50327074, 0.49672926],\n",
       "       [0.30970175, 0.69029825],\n",
       "       [0.50639709, 0.49360291],\n",
       "       [0.74902154, 0.25097846],\n",
       "       [0.21170041, 0.78829959],\n",
       "       [0.85876175, 0.14123825],\n",
       "       [0.36357839, 0.63642161],\n",
       "       [0.9134962 , 0.0865038 ],\n",
       "       [0.59832385, 0.40167615],\n",
       "       [0.47448633, 0.52551367],\n",
       "       [0.4331299 , 0.5668701 ],\n",
       "       [0.28216311, 0.71783689],\n",
       "       [0.68667443, 0.31332557],\n",
       "       [0.26620682, 0.73379318],\n",
       "       [0.97029551, 0.02970449],\n",
       "       [0.26026453, 0.73973547],\n",
       "       [0.66619522, 0.33380478],\n",
       "       [0.56535277, 0.43464723],\n",
       "       [0.32624644, 0.67375356],\n",
       "       [0.89778987, 0.10221013],\n",
       "       [0.39681975, 0.60318025],\n",
       "       [0.66128654, 0.33871346],\n",
       "       [0.73251712, 0.26748288],\n",
       "       [0.17187767, 0.82812233],\n",
       "       [0.98228991, 0.01771009],\n",
       "       [0.61910064, 0.38089936],\n",
       "       [0.69716193, 0.30283807],\n",
       "       [0.83278956, 0.16721044],\n",
       "       [0.90134917, 0.09865083],\n",
       "       [0.66342636, 0.33657364],\n",
       "       [0.73634919, 0.26365081],\n",
       "       [0.22724956, 0.77275044],\n",
       "       [0.54172016, 0.45827984],\n",
       "       [0.25550877, 0.74449123],\n",
       "       [0.89768036, 0.10231964],\n",
       "       [0.85117754, 0.14882246],\n",
       "       [0.62858049, 0.37141951],\n",
       "       [0.78183021, 0.21816979]])"
      ]
     },
     "execution_count": 33,
     "metadata": {},
     "output_type": "execute_result"
    }
   ],
   "source": [
    "# predict_proba : 레이블 값이 될 확률 추출\n",
    "pred_probal = lr_clf.predict_proba(X_test)\n",
    "pred_probal"
   ]
  },
  {
   "cell_type": "code",
   "execution_count": 35,
   "id": "84886121",
   "metadata": {},
   "outputs": [
    {
     "data": {
      "image/png": "[encoded data removed]",
      "text/plain": [
       "<Figure size 432x288 with 1 Axes>"
      ]
     },
     "metadata": {
      "needs_background": "light"
     },
     "output_type": "display_data"
    }
   ],
   "source": [
    "precision, recall, thresholds = precision_recall_curve(y_test, pred_probal[:, 1])\n",
    "plt.plot(thresholds, precision[:thresholds.shape[0]], 'r-', label = 'precision')\n",
    "plt.plot(thresholds, recall[:thresholds.shape[0]], 'b--', label='recall')\n",
    "plt.legend()\n",
    "plt.show()"
   ]
  },
  {
   "cell_type": "code",
   "execution_count": 36,
   "id": "318c1e86",
   "metadata": {},
   "outputs": [
    {
     "data": {
      "image/png": "[encoded data removed]",
      "text/plain": [
       "<Figure size 432x288 with 1 Axes>"
      ]
     },
     "metadata": {
      "needs_background": "light"
     },
     "output_type": "display_data"
    }
   ],
   "source": [
    "# 두 모델 ROC curve comparison\n",
    "lr_clf_disp = plot_roc_curve(lr_clf, X_test, y_test)\n",
    "dt_disp = plot_roc_curve(dt, X_test, y_test, ax=lr_clf_disp.ax_)\n",
    "lr_clf_disp.figure_.suptitle(\"ROC curve comparison\")\n",
    "plt.show()"
   ]
  },
  {
   "cell_type": "code",
   "execution_count": 37,
   "id": "276b270a",
   "metadata": {},
   "outputs": [],
   "source": [
    "from sklearn.neighbors import KNeighborsClassifier\n",
    "from sklearn.svm import SVC\n",
    "from sklearn.gaussian_process import GaussianProcessClassifier\n",
    "from sklearn.gaussian_process.kernels import RBF\n",
    "from sklearn.tree import DecisionTreeClassifier\n",
    "from sklearn.ensemble import RandomForestClassifier, AdaBoostClassifier\n",
    "from sklearn.naive_bayes import GaussianNB\n",
    "from sklearn.discriminant_analysis import QuadraticDiscriminantAnalysis"
   ]
  },
  {
   "cell_type": "code",
   "execution_count": 38,
   "id": "b4a35283",
   "metadata": {},
   "outputs": [],
   "source": [
    "X_train, X_test, y_train, y_test = train_test_split(feature, target ,shuffle=True, stratify = target, random_state=156)"
   ]
  },
  {
   "cell_type": "code",
   "execution_count": 39,
   "id": "7e2c953b",
   "metadata": {},
   "outputs": [],
   "source": [
    "model_dic = {\n",
    "    \"Nearest Neighbors\" : KNeighborsClassifier(3),\n",
    "    \"SVM\" : SVC(),\n",
    "    \"Linear SVM\" : SVC(kernel=\"linear\", C=0.025),\n",
    "    \"RBF SVM\" : SVC(gamma=2, C=1),\n",
    "    \"Decision Tree\" : DecisionTreeClassifier(),\n",
    "    \"Random Forest\" : RandomForestClassifier(max_depth=5, n_estimators=10, max_features=1), \n",
    "    \"LogisticRegression\" : LogisticRegression(), \n",
    "    \"AdaBoost\" : AdaBoostClassifier(),\n",
    "    \"Naive Bayes\" : GaussianNB(),\n",
    "    \"QDA\" : QuadraticDiscriminantAnalysis()\n",
    "}"
   ]
  },
  {
   "cell_type": "code",
   "execution_count": 40,
   "id": "0daed5c8",
   "metadata": {},
   "outputs": [
    {
     "name": "stdout",
     "output_type": "stream",
     "text": [
      "Nearest Neighbors : training\n",
      "Nearest Neighbors : predict\n",
      "SVM : training\n",
      "SVM : predict\n",
      "Linear SVM : training\n",
      "Linear SVM : predict\n",
      "RBF SVM : training\n",
      "RBF SVM : predict\n",
      "Decision Tree : training\n",
      "Decision Tree : predict\n",
      "Random Forest : training\n",
      "Random Forest : predict\n",
      "LogisticRegression : training\n",
      "LogisticRegression : predict\n",
      "AdaBoost : training\n",
      "AdaBoost : predict\n",
      "Naive Bayes : training\n",
      "Naive Bayes : predict\n",
      "QDA : training\n",
      "QDA : predict\n"
     ]
    }
   ],
   "source": [
    "model_p = {}\n",
    "model_acc = {} \n",
    "model_auc = {} \n",
    "\n",
    "for key in model_dic.keys() :\n",
    "  model = model_dic[key]\n",
    "  print(f'{key} : training') \n",
    "  model.fit(X_train, y_train)\n",
    "  \n",
    "  print(f'{key} : predict') \n",
    "  model_p[key] = model.predict(X_test)\n",
    "  model_acc[key] = accuracy_score(y_test, model_p[key])\n",
    "  model_auc[key] = roc_auc_score(y_test, model_p[key])"
   ]
  },
  {
   "cell_type": "code",
   "execution_count": 41,
   "id": "8ef9c271",
   "metadata": {},
   "outputs": [
    {
     "data": {
      "image/png": "[encoded data removed]",
      "text/plain": [
       "<Figure size 432x288 with 1 Axes>"
      ]
     },
     "metadata": {
      "needs_background": "light"
     },
     "output_type": "display_data"
    }
   ],
   "source": [
    "disp = plot_roc_curve(model_dic['Nearest Neighbors'], X_test, y_test) \n",
    "for key in model_dic.keys() :\n",
    "  if key != 'Nearest Neighbors' :\n",
    "    plot_roc_curve(model_dic[key], X_test, y_test, ax=disp.ax_)\n",
    "  \n",
    "disp.figure_.suptitle(\"ROC curve comparison\")\n",
    "plt.legend(bbox_to_anchor=(1.05, 1))\n",
    "plt.show()"
   ]
  },
  {
   "cell_type": "code",
   "execution_count": 42,
   "id": "d55bcee2",
   "metadata": {},
   "outputs": [
    {
     "data": {
      "text/html": [
       "<div>\n",
       "<style scoped>\n",
       "    .dataframe tbody tr th:only-of-type {\n",
       "        vertical-align: middle;\n",
       "    }\n",
       "\n",
       "    .dataframe tbody tr th {\n",
       "        vertical-align: top;\n",
       "    }\n",
       "\n",
       "    .dataframe thead th {\n",
       "        text-align: right;\n",
       "    }\n",
       "</style>\n",
       "<table border=\"1\" class=\"dataframe\">\n",
       "  <thead>\n",
       "    <tr style=\"text-align: right;\">\n",
       "      <th></th>\n",
       "      <th>모델</th>\n",
       "      <th>정확도</th>\n",
       "      <th>AUC</th>\n",
       "    </tr>\n",
       "  </thead>\n",
       "  <tbody>\n",
       "    <tr>\n",
       "      <th>8</th>\n",
       "      <td>Naive Bayes</td>\n",
       "      <td>0.786458</td>\n",
       "      <td>0.752896</td>\n",
       "    </tr>\n",
       "    <tr>\n",
       "      <th>6</th>\n",
       "      <td>LogisticRegression</td>\n",
       "      <td>0.781250</td>\n",
       "      <td>0.728119</td>\n",
       "    </tr>\n",
       "    <tr>\n",
       "      <th>2</th>\n",
       "      <td>Linear SVM</td>\n",
       "      <td>0.770833</td>\n",
       "      <td>0.720119</td>\n",
       "    </tr>\n",
       "    <tr>\n",
       "      <th>5</th>\n",
       "      <td>Random Forest</td>\n",
       "      <td>0.750000</td>\n",
       "      <td>0.683343</td>\n",
       "    </tr>\n",
       "    <tr>\n",
       "      <th>7</th>\n",
       "      <td>AdaBoost</td>\n",
       "      <td>0.750000</td>\n",
       "      <td>0.711045</td>\n",
       "    </tr>\n",
       "    <tr>\n",
       "      <th>1</th>\n",
       "      <td>SVM</td>\n",
       "      <td>0.739583</td>\n",
       "      <td>0.671881</td>\n",
       "    </tr>\n",
       "    <tr>\n",
       "      <th>9</th>\n",
       "      <td>QDA</td>\n",
       "      <td>0.734375</td>\n",
       "      <td>0.705970</td>\n",
       "    </tr>\n",
       "    <tr>\n",
       "      <th>4</th>\n",
       "      <td>Decision Tree</td>\n",
       "      <td>0.677083</td>\n",
       "      <td>0.641194</td>\n",
       "    </tr>\n",
       "    <tr>\n",
       "      <th>0</th>\n",
       "      <td>Nearest Neighbors</td>\n",
       "      <td>0.661458</td>\n",
       "      <td>0.608418</td>\n",
       "    </tr>\n",
       "    <tr>\n",
       "      <th>3</th>\n",
       "      <td>RBF SVM</td>\n",
       "      <td>0.651042</td>\n",
       "      <td>0.500000</td>\n",
       "    </tr>\n",
       "  </tbody>\n",
       "</table>\n",
       "</div>"
      ],
      "text/plain": [
       "                   모델       정확도       AUC\n",
       "8         Naive Bayes  0.786458  0.752896\n",
       "6  LogisticRegression  0.781250  0.728119\n",
       "2          Linear SVM  0.770833  0.720119\n",
       "5       Random Forest  0.750000  0.683343\n",
       "7            AdaBoost  0.750000  0.711045\n",
       "1                 SVM  0.739583  0.671881\n",
       "9                 QDA  0.734375  0.705970\n",
       "4       Decision Tree  0.677083  0.641194\n",
       "0   Nearest Neighbors  0.661458  0.608418\n",
       "3             RBF SVM  0.651042  0.500000"
      ]
     },
     "execution_count": 42,
     "metadata": {},
     "output_type": "execute_result"
    }
   ],
   "source": [
    "result = pd.DataFrame()\n",
    "result['모델'] = model_acc.keys()\n",
    "result['정확도'] = model_acc.values()\n",
    "result['AUC'] = model_auc.values()\n",
    "result.sort_values('정확도', ascending=False)"
   ]
  },
  {
   "cell_type": "code",
   "execution_count": null,
   "id": "778c5586",
   "metadata": {},
   "outputs": [],
   "source": []
  },
  {
   "cell_type": "code",
   "execution_count": null,
   "id": "e49dfeea",
   "metadata": {},
   "outputs": [],
   "source": []
  },
  {
   "cell_type": "code",
   "execution_count": null,
   "id": "6b555383",
   "metadata": {},
   "outputs": [],
   "source": []
  },
  {
   "cell_type": "code",
   "execution_count": null,
   "id": "44237299",
   "metadata": {},
   "outputs": [],
   "source": []
  },
  {
   "cell_type": "code",
   "execution_count": null,
   "id": "92d5147d",
   "metadata": {},
   "outputs": [],
   "source": []
  },
  {
   "cell_type": "code",
   "execution_count": null,
   "id": "8f06a2a4",
   "metadata": {},
   "outputs": [],
   "source": []
  },
  {
   "cell_type": "code",
   "execution_count": null,
   "id": "15c6e49e",
   "metadata": {},
   "outputs": [],
   "source": []
  },
  {
   "cell_type": "code",
   "execution_count": null,
   "id": "998ce85e",
   "metadata": {},
   "outputs": [],
   "source": []
  },
  {
   "cell_type": "code",
   "execution_count": null,
   "id": "8b73595e",
   "metadata": {},
   "outputs": [],
   "source": []
  },
  {
   "cell_type": "code",
   "execution_count": null,
   "id": "deea255e",
   "metadata": {},
   "outputs": [],
   "source": []
  },
  {
   "cell_type": "code",
   "execution_count": null,
   "id": "50857411",
   "metadata": {},
   "outputs": [],
   "source": []
  },
  {
   "cell_type": "code",
   "execution_count": null,
   "id": "4b4f81d7",
   "metadata": {},
   "outputs": [],
   "source": []
  },
  {
   "cell_type": "code",
   "execution_count": null,
   "id": "24ef0297",
   "metadata": {},
   "outputs": [],
   "source": []
  },
  {
   "cell_type": "code",
   "execution_count": null,
   "id": "ec5acc38",
   "metadata": {},
   "outputs": [],
   "source": []
  },
  {
   "cell_type": "code",
   "execution_count": null,
   "id": "cd7c558f",
   "metadata": {},
   "outputs": [],
   "source": []
  },
  {
   "cell_type": "code",
   "execution_count": null,
   "id": "191c63b0",
   "metadata": {},
   "outputs": [],
   "source": []
  },
  {
   "cell_type": "code",
   "execution_count": null,
   "id": "ecc84cab",
   "metadata": {},
   "outputs": [],
   "source": []
  },
  {
   "cell_type": "code",
   "execution_count": null,
   "id": "79cf8a9e",
   "metadata": {},
   "outputs": [],
   "source": []
  },
  {
   "cell_type": "code",
   "execution_count": null,
   "id": "9aba3648",
   "metadata": {},
   "outputs": [],
   "source": []
  },
  {
   "cell_type": "code",
   "execution_count": null,
   "id": "be101883",
   "metadata": {},
   "outputs": [],
   "source": []
  },
  {
   "cell_type": "code",
   "execution_count": null,
   "id": "c39d68af",
   "metadata": {},
   "outputs": [],
   "source": []
  },
  {
   "cell_type": "code",
   "execution_count": null,
   "id": "4ab0ddd9",
   "metadata": {},
   "outputs": [],
   "source": []
  },
  {
   "cell_type": "code",
   "execution_count": null,
   "id": "f474ca82",
   "metadata": {},
   "outputs": [],
   "source": []
  },
  {
   "cell_type": "code",
   "execution_count": null,
   "id": "43c4ca60",
   "metadata": {},
   "outputs": [],
   "source": []
  },
  {
   "cell_type": "code",
   "execution_count": null,
   "id": "a5e595cc",
   "metadata": {},
   "outputs": [],
   "source": []
  },
  {
   "cell_type": "code",
   "execution_count": null,
   "id": "fd2da4cf",
   "metadata": {},
   "outputs": [],
   "source": []
  },
  {
   "cell_type": "code",
   "execution_count": null,
   "id": "7ce12096",
   "metadata": {},
   "outputs": [],
   "source": []
  }
 ],
 "metadata": {
  "kernelspec": {
   "display_name": "Python 3 (ipykernel)",
   "language": "python",
   "name": "python3"
  },
  "language_info": {
   "codemirror_mode": {
    "name": "ipython",
    "version": 3
   },
   "file_extension": ".py",
   "mimetype": "text/x-python",
   "name": "python",
   "nbconvert_exporter": "python",
   "pygments_lexer": "ipython3",
   "version": "3.9.7"
  }
 },
 "nbformat": 4,
 "nbformat_minor": 5
}
