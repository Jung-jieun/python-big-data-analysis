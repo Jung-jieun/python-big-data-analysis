{
 "cells": [
  {
   "cell_type": "markdown",
   "id": "ff4588f7",
   "metadata": {},
   "source": [
    "### 데이터전처리(Data Preprocessing)\n",
    "\n",
    "- ML 알고리즘은 데이터에 기반하고 있기 때문에 어떤 데이터를 입력으로 가지느냐에 따라 결과도 달라짐\n",
    "- 결측치 처리 : NaN, Null 값은 허용하지 않음\n",
    "- 문자열 값은 입력값으로 혀용하지 않음 : 숫자형으로 변환"
   ]
  },
  {
   "cell_type": "markdown",
   "id": "6c8c506b",
   "metadata": {},
   "source": [
    "#### 데이터 인코딩"
   ]
  },
  {
   "cell_type": "markdown",
   "id": "0bfda46f",
   "metadata": {},
   "source": [
    "#### 레이블 인코딩(label encoding)\n",
    "\n",
    "- 문자열을 숫자형 카테고리 값으로 변환\n",
    "- 몇몇 ML 알고리즘은 숫자 값의 크고 작음에 대한 특성을 반영함으로 성능 저하\n",
    "    - 선형회귀 알고리즘에는 적용하면 안됨\n",
    "    - 트리 계열의 알고리즘에는 적용 가능"
   ]
  },
  {
   "cell_type": "code",
   "execution_count": 1,
   "id": "0e11743d",
   "metadata": {},
   "outputs": [
    {
     "data": {
      "text/plain": [
       "{'대구', '부산', '서울'}"
      ]
     },
     "execution_count": 1,
     "metadata": {},
     "output_type": "execute_result"
    }
   ],
   "source": [
    "area = ['서울', '부산', '부산', '대구', '서울']\n",
    "set(area)"
   ]
  },
  {
   "cell_type": "code",
   "execution_count": 2,
   "id": "a1bf3d56",
   "metadata": {},
   "outputs": [
    {
     "data": {
      "text/plain": [
       "[0, 1, 1, 2, 0]"
      ]
     },
     "execution_count": 2,
     "metadata": {},
     "output_type": "execute_result"
    }
   ],
   "source": [
    "area = ['서울', '부산', '부산', '대구', '서울']\n",
    "area = [0 if item == '서울' else 1 if item == '부산' else 2 for item in area]\n",
    "area"
   ]
  },
  {
   "cell_type": "code",
   "execution_count": 3,
   "id": "6abb8a1e",
   "metadata": {},
   "outputs": [
    {
     "data": {
      "text/html": [
       "<div>\n",
       "<style scoped>\n",
       "    .dataframe tbody tr th:only-of-type {\n",
       "        vertical-align: middle;\n",
       "    }\n",
       "\n",
       "    .dataframe tbody tr th {\n",
       "        vertical-align: top;\n",
       "    }\n",
       "\n",
       "    .dataframe thead th {\n",
       "        text-align: right;\n",
       "    }\n",
       "</style>\n",
       "<table border=\"1\" class=\"dataframe\">\n",
       "  <thead>\n",
       "    <tr style=\"text-align: right;\">\n",
       "      <th></th>\n",
       "      <th>지역</th>\n",
       "    </tr>\n",
       "  </thead>\n",
       "  <tbody>\n",
       "    <tr>\n",
       "      <th>0</th>\n",
       "      <td>0</td>\n",
       "    </tr>\n",
       "    <tr>\n",
       "      <th>1</th>\n",
       "      <td>1</td>\n",
       "    </tr>\n",
       "    <tr>\n",
       "      <th>2</th>\n",
       "      <td>1</td>\n",
       "    </tr>\n",
       "    <tr>\n",
       "      <th>3</th>\n",
       "      <td>2</td>\n",
       "    </tr>\n",
       "    <tr>\n",
       "      <th>4</th>\n",
       "      <td>0</td>\n",
       "    </tr>\n",
       "  </tbody>\n",
       "</table>\n",
       "</div>"
      ],
      "text/plain": [
       "   지역\n",
       "0   0\n",
       "1   1\n",
       "2   1\n",
       "3   2\n",
       "4   0"
      ]
     },
     "execution_count": 3,
     "metadata": {},
     "output_type": "execute_result"
    }
   ],
   "source": [
    "import pandas as pd\n",
    "dt = {'서울' : 0, '부산' : 1, '대구' : 2}\n",
    "area = ['서울', '부산', '부산', '대구', '서울']\n",
    "\n",
    "area_df = pd.DataFrame(data = area, columns = ['지역'])\n",
    "area_df['지역'] = area_df['지역'].map(dt)\n",
    "area_df"
   ]
  },
  {
   "cell_type": "code",
   "execution_count": 4,
   "id": "3a66a013",
   "metadata": {},
   "outputs": [
    {
     "name": "stdout",
     "output_type": "stream",
     "text": [
      "인코딩 변환값 : [2 1 1 0 2]\n",
      "인코딩 클래스 : ['대구' '부산' '서울']\n",
      "디코딩 원본값 : ['서울' '부산' '부산' '대구' '서울']\n"
     ]
    }
   ],
   "source": [
    "from sklearn.preprocessing import LabelEncoder\n",
    "\n",
    "item = ['서울', '부산', '부산', '대구', '서울']\n",
    "\n",
    "# LabelEncoder 객체생성\n",
    "encoder = LabelEncoder()\n",
    "\n",
    "# fit()과 transform()으로 레이블 인코딩\n",
    "encoder.fit(item)\n",
    "labels = encoder.transform(item)\n",
    "\n",
    "print(f'인코딩 변환값 : {labels}')\n",
    "print(f'인코딩 클래스 : {encoder.classes_}')\n",
    "print(f'디코딩 원본값 : {encoder.inverse_transform(labels)}')"
   ]
  },
  {
   "cell_type": "markdown",
   "id": "c69a3dda",
   "metadata": {},
   "source": [
    "#### 원-핫 인코딩(One-Hot Encoding)\n",
    "\n",
    "- 간단하게 피처 값의 유형에 따라 새로운 피처를 추가해 고유 값에 해당하는 칼럼에만 1을 표시하고 나머지 칼럼에는 0을 표시하는 방법"
   ]
  },
  {
   "cell_type": "code",
   "execution_count": 9,
   "id": "1e0a3ce2",
   "metadata": {},
   "outputs": [
    {
     "name": "stdout",
     "output_type": "stream",
     "text": [
      "['서울' '부산' '부산' '대구' '서울']\n",
      "[['서울']\n",
      " ['부산']\n",
      " ['부산']\n",
      " ['대구']\n",
      " ['서울']]\n"
     ]
    }
   ],
   "source": [
    "from sklearn.preprocessing import OneHotEncoder\n",
    "import numpy as np\n",
    "\n",
    "item = ['서울', '부산', '부산', '대구', '서울']\n",
    "\n",
    "# 2차원 ndarray로 변환\n",
    "item = np.array(item)\n",
    "print(item)\n",
    "item = np.array(item).reshape(-1,1)\n",
    "print(item)"
   ]
  },
  {
   "cell_type": "code",
   "execution_count": 11,
   "id": "c7744145",
   "metadata": {},
   "outputs": [
    {
     "name": "stdout",
     "output_type": "stream",
     "text": [
      "[['서울']\n",
      " ['부산']\n",
      " ['부산']\n",
      " ['대구']\n",
      " ['서울']]\n"
     ]
    }
   ],
   "source": [
    "print(item)"
   ]
  },
  {
   "cell_type": "code",
   "execution_count": 10,
   "id": "c96d54c2",
   "metadata": {},
   "outputs": [
    {
     "name": "stdout",
     "output_type": "stream",
     "text": [
      "  (0, 2)\t1.0\n",
      "  (1, 1)\t1.0\n",
      "  (2, 1)\t1.0\n",
      "  (3, 0)\t1.0\n",
      "  (4, 2)\t1.0\n",
      "원핫인코딩 : \n",
      "[[0. 0. 1.]\n",
      " [0. 1. 0.]\n",
      " [0. 1. 0.]\n",
      " [1. 0. 0.]\n",
      " [0. 0. 1.]]\n",
      "원핫인코딩차원 : (5, 3)\n"
     ]
    }
   ],
   "source": [
    "# 원핫인코딩 적용\n",
    "enc = OneHotEncoder()\n",
    "enc.fit(item)\n",
    "labels = enc.transform(item)\n",
    "print(labels)\n",
    "labels = labels.toarray()\n",
    "\n",
    "print(f'원핫인코딩 : \\n{labels}')\n",
    "print(f'원핫인코딩차원 : {labels.shape}')"
   ]
  },
  {
   "cell_type": "code",
   "execution_count": 12,
   "id": "0900db7c",
   "metadata": {},
   "outputs": [
    {
     "data": {
      "text/html": [
       "<div>\n",
       "<style scoped>\n",
       "    .dataframe tbody tr th:only-of-type {\n",
       "        vertical-align: middle;\n",
       "    }\n",
       "\n",
       "    .dataframe tbody tr th {\n",
       "        vertical-align: top;\n",
       "    }\n",
       "\n",
       "    .dataframe thead th {\n",
       "        text-align: right;\n",
       "    }\n",
       "</style>\n",
       "<table border=\"1\" class=\"dataframe\">\n",
       "  <thead>\n",
       "    <tr style=\"text-align: right;\">\n",
       "      <th></th>\n",
       "      <th>item</th>\n",
       "    </tr>\n",
       "  </thead>\n",
       "  <tbody>\n",
       "    <tr>\n",
       "      <th>0</th>\n",
       "      <td>서울</td>\n",
       "    </tr>\n",
       "    <tr>\n",
       "      <th>1</th>\n",
       "      <td>부산</td>\n",
       "    </tr>\n",
       "    <tr>\n",
       "      <th>2</th>\n",
       "      <td>부산</td>\n",
       "    </tr>\n",
       "    <tr>\n",
       "      <th>3</th>\n",
       "      <td>대구</td>\n",
       "    </tr>\n",
       "    <tr>\n",
       "      <th>4</th>\n",
       "      <td>서울</td>\n",
       "    </tr>\n",
       "  </tbody>\n",
       "</table>\n",
       "</div>"
      ],
      "text/plain": [
       "  item\n",
       "0   서울\n",
       "1   부산\n",
       "2   부산\n",
       "3   대구\n",
       "4   서울"
      ]
     },
     "execution_count": 12,
     "metadata": {},
     "output_type": "execute_result"
    }
   ],
   "source": [
    "# 판다스를 이용하는 방법\n",
    "import pandas as pd\n",
    "\n",
    "df = pd.DataFrame({'item' : ['서울', '부산', '부산', '대구', '서울']})\n",
    "df"
   ]
  },
  {
   "cell_type": "code",
   "execution_count": 13,
   "id": "01f4edaf",
   "metadata": {},
   "outputs": [
    {
     "data": {
      "text/html": [
       "<div>\n",
       "<style scoped>\n",
       "    .dataframe tbody tr th:only-of-type {\n",
       "        vertical-align: middle;\n",
       "    }\n",
       "\n",
       "    .dataframe tbody tr th {\n",
       "        vertical-align: top;\n",
       "    }\n",
       "\n",
       "    .dataframe thead th {\n",
       "        text-align: right;\n",
       "    }\n",
       "</style>\n",
       "<table border=\"1\" class=\"dataframe\">\n",
       "  <thead>\n",
       "    <tr style=\"text-align: right;\">\n",
       "      <th></th>\n",
       "      <th>대구</th>\n",
       "      <th>부산</th>\n",
       "      <th>서울</th>\n",
       "    </tr>\n",
       "  </thead>\n",
       "  <tbody>\n",
       "    <tr>\n",
       "      <th>0</th>\n",
       "      <td>0</td>\n",
       "      <td>0</td>\n",
       "      <td>1</td>\n",
       "    </tr>\n",
       "    <tr>\n",
       "      <th>1</th>\n",
       "      <td>0</td>\n",
       "      <td>1</td>\n",
       "      <td>0</td>\n",
       "    </tr>\n",
       "    <tr>\n",
       "      <th>2</th>\n",
       "      <td>0</td>\n",
       "      <td>1</td>\n",
       "      <td>0</td>\n",
       "    </tr>\n",
       "    <tr>\n",
       "      <th>3</th>\n",
       "      <td>1</td>\n",
       "      <td>0</td>\n",
       "      <td>0</td>\n",
       "    </tr>\n",
       "    <tr>\n",
       "      <th>4</th>\n",
       "      <td>0</td>\n",
       "      <td>0</td>\n",
       "      <td>1</td>\n",
       "    </tr>\n",
       "  </tbody>\n",
       "</table>\n",
       "</div>"
      ],
      "text/plain": [
       "   대구  부산  서울\n",
       "0   0   0   1\n",
       "1   0   1   0\n",
       "2   0   1   0\n",
       "3   1   0   0\n",
       "4   0   0   1"
      ]
     },
     "execution_count": 13,
     "metadata": {},
     "output_type": "execute_result"
    }
   ],
   "source": [
    "df1 = pd.get_dummies(df['item'])\n",
    "df1"
   ]
  },
  {
   "cell_type": "code",
   "execution_count": 14,
   "id": "124456a1",
   "metadata": {},
   "outputs": [
    {
     "data": {
      "text/html": [
       "<div>\n",
       "<style scoped>\n",
       "    .dataframe tbody tr th:only-of-type {\n",
       "        vertical-align: middle;\n",
       "    }\n",
       "\n",
       "    .dataframe tbody tr th {\n",
       "        vertical-align: top;\n",
       "    }\n",
       "\n",
       "    .dataframe thead th {\n",
       "        text-align: right;\n",
       "    }\n",
       "</style>\n",
       "<table border=\"1\" class=\"dataframe\">\n",
       "  <thead>\n",
       "    <tr style=\"text-align: right;\">\n",
       "      <th></th>\n",
       "      <th>item</th>\n",
       "      <th>대구</th>\n",
       "      <th>부산</th>\n",
       "      <th>서울</th>\n",
       "    </tr>\n",
       "  </thead>\n",
       "  <tbody>\n",
       "    <tr>\n",
       "      <th>0</th>\n",
       "      <td>서울</td>\n",
       "      <td>0</td>\n",
       "      <td>0</td>\n",
       "      <td>1</td>\n",
       "    </tr>\n",
       "    <tr>\n",
       "      <th>1</th>\n",
       "      <td>부산</td>\n",
       "      <td>0</td>\n",
       "      <td>1</td>\n",
       "      <td>0</td>\n",
       "    </tr>\n",
       "    <tr>\n",
       "      <th>2</th>\n",
       "      <td>부산</td>\n",
       "      <td>0</td>\n",
       "      <td>1</td>\n",
       "      <td>0</td>\n",
       "    </tr>\n",
       "    <tr>\n",
       "      <th>3</th>\n",
       "      <td>대구</td>\n",
       "      <td>1</td>\n",
       "      <td>0</td>\n",
       "      <td>0</td>\n",
       "    </tr>\n",
       "    <tr>\n",
       "      <th>4</th>\n",
       "      <td>서울</td>\n",
       "      <td>0</td>\n",
       "      <td>0</td>\n",
       "      <td>1</td>\n",
       "    </tr>\n",
       "  </tbody>\n",
       "</table>\n",
       "</div>"
      ],
      "text/plain": [
       "  item  대구  부산  서울\n",
       "0   서울   0   0   1\n",
       "1   부산   0   1   0\n",
       "2   부산   0   1   0\n",
       "3   대구   1   0   0\n",
       "4   서울   0   0   1"
      ]
     },
     "execution_count": 14,
     "metadata": {},
     "output_type": "execute_result"
    }
   ],
   "source": [
    "# 원래 데이터에 붙여넣기\n",
    "df2 = pd.concat([df,df1],axis=1)\n",
    "df2"
   ]
  },
  {
   "cell_type": "markdown",
   "id": "1d094264",
   "metadata": {},
   "source": [
    "#### 피쳐 스케일링(feature scaling)\n",
    "\n",
    "- 서로 다른 변수의 값 범위를 일정한 수준으로 맞추는 작업\n",
    "- 표준화(Standardization)\n",
    "    - 데이터 피쳐 각각이 평균이 0이고 분산이 1인 가우시안 정규 분포를 가진 값으로 변환\n",
    "- 정규화(Normalization)\n",
    "    - 서로 다른 피쳐의 크기를 통일하기 위해 크기를 변환해주는 개념\n",
    "    - 개별 데이터의 크기를 모두 똑같은 단위로 변경하는 것"
   ]
  },
  {
   "cell_type": "markdown",
   "id": "f07b2056",
   "metadata": {},
   "source": [
    "#### StandardScaler\n",
    "\n",
    "- 개별 피처를 평균이 0이고 분산이 1인 값으로 변환\n",
    "- 가우시안 정규 분포를 가질 수 있도록 데이터 변환\n",
    "- 서포트벡터머신(Support Vector Marchine), 선형회귀(Linear Regression), 로지스틱회귀(Logistic Regression) 알고리즘은 데이터가 가우시안 분포를 가지고 있다고 가정하여 구현됐기 때문에 사전에 표준화를 적용하는 것이 예측성능향상에 중요한 요소가 됨"
   ]
  },
  {
   "cell_type": "code",
   "execution_count": null,
   "id": "80ba9802",
   "metadata": {},
   "outputs": [],
   "source": []
  },
  {
   "cell_type": "code",
   "execution_count": null,
   "id": "93692475",
   "metadata": {},
   "outputs": [],
   "source": []
  },
  {
   "cell_type": "code",
   "execution_count": null,
   "id": "7a2ad821",
   "metadata": {},
   "outputs": [],
   "source": []
  },
  {
   "cell_type": "code",
   "execution_count": null,
   "id": "13953d7a",
   "metadata": {},
   "outputs": [],
   "source": []
  },
  {
   "cell_type": "code",
   "execution_count": null,
   "id": "e8f95a47",
   "metadata": {},
   "outputs": [],
   "source": []
  },
  {
   "cell_type": "code",
   "execution_count": null,
   "id": "14c2ce26",
   "metadata": {},
   "outputs": [],
   "source": []
  },
  {
   "cell_type": "code",
   "execution_count": null,
   "id": "fccbe694",
   "metadata": {},
   "outputs": [],
   "source": []
  },
  {
   "cell_type": "code",
   "execution_count": null,
   "id": "eef5de72",
   "metadata": {},
   "outputs": [],
   "source": []
  },
  {
   "cell_type": "code",
   "execution_count": null,
   "id": "062b655d",
   "metadata": {},
   "outputs": [],
   "source": []
  },
  {
   "cell_type": "code",
   "execution_count": null,
   "id": "17be4520",
   "metadata": {},
   "outputs": [],
   "source": []
  }
 ],
 "metadata": {
  "kernelspec": {
   "display_name": "Python 3 (ipykernel)",
   "language": "python",
   "name": "python3"
  },
  "language_info": {
   "codemirror_mode": {
    "name": "ipython",
    "version": 3
   },
   "file_extension": ".py",
   "mimetype": "text/x-python",
   "name": "python",
   "nbconvert_exporter": "python",
   "pygments_lexer": "ipython3",
   "version": "3.9.7"
  }
 },
 "nbformat": 4,
 "nbformat_minor": 5
}
