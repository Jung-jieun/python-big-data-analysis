{
 "cells": [
  {
   "cell_type": "markdown",
   "id": "eb9cf62a",
   "metadata": {},
   "source": [
    "### 회귀(Regression)\n",
    "\n",
    "- 주어진 독립변수(피처)와 종속변수(결정 값) 데이터 기반에서 학습을 통해 최적의 회귀 계수를 찾는 것\n",
    "    - 회귀는 여러 개의 독립변수와 한 개의 종속변수 간의 상관관계를 모델링하는 기법"
   ]
  },
  {
   "cell_type": "markdown",
   "id": "35706bb9",
   "metadata": {},
   "source": [
    "#### 회귀모델 성능지표\n",
    "\n",
    "- MAE(Mean Absolute Error) : 실제 값과 예측값의 차이를 절대값으로 변환해 평균\n",
    "- MSE(Mean Squared Error) : 실제 값과 예측값의 차이를 제곱해 평균\n",
    "- RMSE(Root Mean Absolute Error) : MAE에 루트를 씌운 것, MSE 값은 실제값과 예측값의 차이를 제곱하여 평균한 것이기 때문에 실제 오차보다 커지는 현상이 발생\n",
    "- R^2 : \n",
    "    - 1-(추정모형의 MSE/평균 관측 값의 MSE)로 계산\n",
    "    - 0에서 1사이의 값\n",
    "    - 선형 모델의 오차가 작다면 R squared가 커지게 되고 선형 모델의 오차가 크다면 R squared가 작아지게 됨"
   ]
  },
  {
   "cell_type": "markdown",
   "id": "a0cfae31",
   "metadata": {},
   "source": [
    "#### LinearRegression을 이용한 보스턴 주택 가격 예측\n",
    "\n",
    "- CRIM : 지역별 범죄 발생률\n",
    "- ZN : 25,000평방피트를 초과하는 거주 지역 비율\n",
    "- INDUS : 비상업 지역 넓이 비율\n",
    "- CHAS : 찰스강에 대한 더미변수(강의 경계에 위치한 경우 1, 아니면 0)\n",
    "- NOX : 일산화질소 농도\n",
    "- RM : 거주할 수 있는 방 개수\n",
    "- AGE : 1940년 이전에 건축된 소유 주택의 비율\n",
    "- DIS : 5개 주요 고용센터까지의 가중 거리\n",
    "- RAD : 고속도로 접근 용이도\n",
    "- TAX : 10,000 달러 당 재산세율\n",
    "- PTRATIO : 지역의 교사와 학생 수 비율\n",
    "- B : 지역의 흑인 거주 비율\n",
    "- LSTAT : 하위 계층의 비율\n",
    "- PRICE(target) : 본인 소유의 주택 가격(중앙값)"
   ]
  },
  {
   "cell_type": "code",
   "execution_count": null,
   "id": "6124a1f8",
   "metadata": {},
   "outputs": [],
   "source": []
  },
  {
   "cell_type": "code",
   "execution_count": null,
   "id": "abd4e304",
   "metadata": {},
   "outputs": [],
   "source": []
  },
  {
   "cell_type": "code",
   "execution_count": null,
   "id": "f8ecc2ea",
   "metadata": {},
   "outputs": [],
   "source": []
  },
  {
   "cell_type": "code",
   "execution_count": null,
   "id": "57d7930a",
   "metadata": {},
   "outputs": [],
   "source": []
  },
  {
   "cell_type": "code",
   "execution_count": null,
   "id": "9bd9201e",
   "metadata": {},
   "outputs": [],
   "source": []
  },
  {
   "cell_type": "code",
   "execution_count": null,
   "id": "db7e67fe",
   "metadata": {},
   "outputs": [],
   "source": []
  },
  {
   "cell_type": "code",
   "execution_count": null,
   "id": "d276f8b5",
   "metadata": {},
   "outputs": [],
   "source": []
  },
  {
   "cell_type": "code",
   "execution_count": null,
   "id": "96de37ff",
   "metadata": {},
   "outputs": [],
   "source": []
  },
  {
   "cell_type": "code",
   "execution_count": null,
   "id": "14dd738c",
   "metadata": {},
   "outputs": [],
   "source": []
  },
  {
   "cell_type": "code",
   "execution_count": null,
   "id": "66a541b1",
   "metadata": {},
   "outputs": [],
   "source": []
  },
  {
   "cell_type": "code",
   "execution_count": null,
   "id": "2d24d252",
   "metadata": {},
   "outputs": [],
   "source": []
  },
  {
   "cell_type": "code",
   "execution_count": null,
   "id": "e915bf7e",
   "metadata": {},
   "outputs": [],
   "source": []
  },
  {
   "cell_type": "code",
   "execution_count": null,
   "id": "6700cdcc",
   "metadata": {},
   "outputs": [],
   "source": []
  },
  {
   "cell_type": "code",
   "execution_count": null,
   "id": "b67424bc",
   "metadata": {},
   "outputs": [],
   "source": []
  },
  {
   "cell_type": "code",
   "execution_count": null,
   "id": "05229642",
   "metadata": {},
   "outputs": [],
   "source": []
  },
  {
   "cell_type": "code",
   "execution_count": null,
   "id": "e819846f",
   "metadata": {},
   "outputs": [],
   "source": []
  },
  {
   "cell_type": "code",
   "execution_count": null,
   "id": "3a2a4881",
   "metadata": {},
   "outputs": [],
   "source": []
  },
  {
   "cell_type": "code",
   "execution_count": null,
   "id": "c38c7118",
   "metadata": {},
   "outputs": [],
   "source": []
  },
  {
   "cell_type": "code",
   "execution_count": null,
   "id": "db942666",
   "metadata": {},
   "outputs": [],
   "source": []
  },
  {
   "cell_type": "code",
   "execution_count": null,
   "id": "3606a920",
   "metadata": {},
   "outputs": [],
   "source": []
  },
  {
   "cell_type": "code",
   "execution_count": null,
   "id": "a4cb96ff",
   "metadata": {},
   "outputs": [],
   "source": []
  },
  {
   "cell_type": "code",
   "execution_count": null,
   "id": "14d1110c",
   "metadata": {},
   "outputs": [],
   "source": []
  },
  {
   "cell_type": "code",
   "execution_count": null,
   "id": "01901e03",
   "metadata": {},
   "outputs": [],
   "source": []
  },
  {
   "cell_type": "code",
   "execution_count": null,
   "id": "38249c11",
   "metadata": {},
   "outputs": [],
   "source": []
  },
  {
   "cell_type": "code",
   "execution_count": null,
   "id": "62e55a36",
   "metadata": {},
   "outputs": [],
   "source": []
  }
 ],
 "metadata": {
  "kernelspec": {
   "display_name": "Python 3 (ipykernel)",
   "language": "python",
   "name": "python3"
  },
  "language_info": {
   "codemirror_mode": {
    "name": "ipython",
    "version": 3
   },
   "file_extension": ".py",
   "mimetype": "text/x-python",
   "name": "python",
   "nbconvert_exporter": "python",
   "pygments_lexer": "ipython3",
   "version": "3.9.7"
  }
 },
 "nbformat": 4,
 "nbformat_minor": 5
}
